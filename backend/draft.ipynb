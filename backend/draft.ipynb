{
 "cells": [
  {
   "cell_type": "code",
   "execution_count": 21,
   "id": "8136aa33",
   "metadata": {},
   "outputs": [],
   "source": [
    "import os\n",
    "import json\n",
    "import openai\n",
    "from dotenv import load_dotenv\n",
    "load_dotenv()\n",
    "OPENAI_API_KEY = os.getenv(\"OPENAI_API_KEY\")\n",
    "DEEPSEEK_API_KEY = os.getenv(\"DEEPSEEK_API_KEY\")\n",
    "def clean_json_tags(json_str):\n",
    "    return json_str.replace(\"```json\", \"\").replace(\"```\", \"\").strip()"
   ]
  },
  {
   "cell_type": "code",
   "execution_count": 7,
   "id": "c7d2bf0f",
   "metadata": {},
   "outputs": [],
   "source": [
    "user_input_list = [\"你好，今天天气如何\", \"我想问一下我买的裤子的一些问题\", \"我要退货\", \"我上周买的裤子可能不适合我\"]\n",
    "user_intent_list = [\"用户要求退货\", \"用户需求导购\"]\n",
    "glossary = [\"导购:引导用户发生购买行为\"]"
   ]
  },
  {
   "cell_type": "code",
   "execution_count": 26,
   "id": "41b7c613",
   "metadata": {},
   "outputs": [],
   "source": [
    "llm_openai = openai.OpenAI(api_key=OPENAI_API_KEY)\n",
    "# llm_deepseek = openai.OpenAI(api_key=DEEPSEEK_API_KEY, base_url=\"https://api.deepseek.com\")\n",
    "system_prompt = \"你是一个识别用户意图的有用的助手\"\n",
    "glossary_in_prompt = \"\\n\".join(glossary)\n",
    "\n",
    "user_input = user_input_list[2]\n",
    "user_intent = user_intent_list[0]\n",
    "\n",
    "prompt = f\"\"\"用户的话: {user_input}\n",
    "意图：{user_intent}\n",
    "用户的话满足所设定的意图么?以下列json的格式输出结果：\n",
    "```json\n",
    "{{\n",
    "    \"user_input\": \"user_input\",\n",
    "    \"user_intent\": \"user_intent\",\n",
    "    \"is_match\": \"True/False\"\n",
    "}}\n",
    "```\n",
    "不明白的术语可以参考下列术语表：\n",
    "术语：{glossary_in_prompt}\n",
    "\"\"\"\n",
    "response = llm_openai.chat.completions.create(\n",
    "            model=\"gpt-4o-2024-08-06\",\n",
    "            messages=[\n",
    "                {\"role\": \"system\", \"content\": system_prompt},\n",
    "                {\"role\": \"user\", \"content\": prompt}\n",
    "            ],\n",
    "            stream=False\n",
    "        )\n",
    "\n",
    "# response = llm_deepseek.chat.completions.create(\n",
    "#             model=\"deepseek-chat\",\n",
    "#             messages=[\n",
    "#                 {\"role\": \"system\", \"content\": system_prompt},\n",
    "#                 {\"role\": \"user\", \"content\": prompt}\n",
    "#             ],\n",
    "#             stream=False\n",
    "#         )\n",
    "\n",
    "response_content = clean_json_tags(response.choices[0].message.content)\n"
   ]
  },
  {
   "cell_type": "code",
   "execution_count": 27,
   "id": "30730eb7",
   "metadata": {},
   "outputs": [],
   "source": [
    "output = json.loads(response_content)"
   ]
  },
  {
   "cell_type": "code",
   "execution_count": 31,
   "id": "38acc0e5",
   "metadata": {},
   "outputs": [
    {
     "name": "stdout",
     "output_type": "stream",
     "text": [
      "用户的话: 我要退货 意图：用户要求退货 满足\n"
     ]
    }
   ],
   "source": [
    "if(output[\"is_match\"].lower() == \"true\"):\n",
    "    print(f\"用户的话: {user_input} 意图：{user_intent} 满足\")\n",
    "else:\n",
    "    print(f\"用户的话: {user_input} 意图：{user_intent} 不满足\")\n"
   ]
  }
 ],
 "metadata": {
  "kernelspec": {
   "display_name": "Python 3",
   "language": "python",
   "name": "python3"
  },
  "language_info": {
   "codemirror_mode": {
    "name": "ipython",
    "version": 3
   },
   "file_extension": ".py",
   "mimetype": "text/x-python",
   "name": "python",
   "nbconvert_exporter": "python",
   "pygments_lexer": "ipython3",
   "version": "3.12.4"
  }
 },
 "nbformat": 4,
 "nbformat_minor": 5
}
